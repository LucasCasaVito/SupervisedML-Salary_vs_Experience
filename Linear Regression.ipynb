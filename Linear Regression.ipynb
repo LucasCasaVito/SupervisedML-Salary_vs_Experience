{
 "cells": [
  {
   "cell_type": "code",
   "execution_count": 3,
   "id": "4160a6fd",
   "metadata": {},
   "outputs": [],
   "source": [
    "import pandas as pd\n",
    "import matplotlib.pyplot as plt"
   ]
  },
  {
   "cell_type": "markdown",
   "id": "e471cf51",
   "metadata": {},
   "source": [
    "### Loading and Vizualing the Data "
   ]
  },
  {
   "cell_type": "code",
   "execution_count": 4,
   "id": "4396d2e3",
   "metadata": {},
   "outputs": [
    {
     "name": "stdout",
     "output_type": "stream",
     "text": [
      "   YearsExperience   Salary\n",
      "0              1.1  39343.0\n",
      "1              1.3  46205.0\n",
      "2              1.5  37731.0\n",
      "3              2.0  43525.0\n",
      "4              2.2  39891.0\n",
      "<class 'pandas.core.series.Series'>\n",
      "Data Set number of features: 1\n",
      "Data Set number of examples 30\n"
     ]
    }
   ],
   "source": [
    "#Dataset: https://www.kaggle.com/datasets/rohankayan/years-of-experience-and-salary-dataset/versions/1?resource=download\n",
    "\n",
    "# Read salary data into dataframe\n",
    "dfs = pd.read_csv(\"Salary_Data.csv\")\n",
    "x_train = dfs['YearsExperience']\n",
    "y_train = dfs['Salary']\n",
    "\n",
    "#print data sample\n",
    "print(dfs[:5])\n",
    "print(type(dfs['Salary']))\n",
    "\n",
    "m = len(dfs.axes[0])\n",
    "n = len(dfs.axes[1]) - 1 #exclude target\n",
    "print('Data Set number of features: {}'.format(n))\n",
    "print('Data Set number of examples {}'.format(m))"
   ]
  },
  {
   "cell_type": "code",
   "execution_count": 5,
   "id": "85e89f60",
   "metadata": {},
   "outputs": [
    {
     "name": "stdout",
     "output_type": "stream",
     "text": [
      "Years of experience range from 1.1 to 10.5\n",
      "Salary ranges from 37731.0 to 122391.0\n"
     ]
    }
   ],
   "source": [
    "#Calculate data ranges\n",
    "max_exp = max(dfs['YearsExperience'])\n",
    "min_exp = min(dfs['YearsExperience'])\n",
    "max_sal = max(dfs['Salary'])\n",
    "min_sal = min(dfs['Salary'])\n",
    "print('Years of experience range from {} to {}'.format(min_exp,max_exp))\n",
    "print('Salary ranges from {} to {}'.format(min_sal,max_sal))"
   ]
  },
  {
   "cell_type": "code",
   "execution_count": 6,
   "id": "574121cc",
   "metadata": {},
   "outputs": [
    {
     "data": {
      "text/plain": [
       "<matplotlib.legend.Legend at 0x236906cfcd0>"
      ]
     },
     "execution_count": 6,
     "metadata": {},
     "output_type": "execute_result"
    },
    {
     "data": {
      "image/png": "[encoded data removed]",
      "text/plain": [
       "<Figure size 432x288 with 1 Axes>"
      ]
     },
     "metadata": {
      "needs_background": "light"
     },
     "output_type": "display_data"
    }
   ],
   "source": [
    "#Visualize data\n",
    "plt.scatter(dfs['YearsExperience'],dfs['Salary'],color='r',marker='x')\n",
    "plt.xlabel('Years of Experience')\n",
    "plt.ylabel('Annual Income USD')\n",
    "plt.title('Experience x Annual Income')\n",
    "plt.legend(['Salary'])"
   ]
  },
  {
   "cell_type": "markdown",
   "id": "e85aaf87",
   "metadata": {},
   "source": [
    "### Cost Function"
   ]
  },
  {
   "cell_type": "code",
   "execution_count": 7,
   "id": "9eff6a6a",
   "metadata": {},
   "outputs": [],
   "source": [
    "#calculate cost function\n",
    "\n",
    "def compute_cost(x,y,w,b):\n",
    "    '''\n",
    "    Computes the cost over all examples\n",
    "    Args:\n",
    "      X : pandas df column vector: m examples by n features\n",
    "      y : pandas df column vector: target values\n",
    "      w : Scalar value of parameter of the model - Single feature      \n",
    "      b : scalar values of bias parameter of the model\n",
    "    Returns:\n",
    "      total_cost: (scalar)         cost \n",
    "    '''\n",
    "    m = len(x)\n",
    "    err = 0\n",
    "    \n",
    "    for i in range(m):\n",
    "        f_wb = w*x[i] + b\n",
    "        err += (f_wb - y[i])**2\n",
    "    total_cost = err * (1/2*m)\n",
    "    \n",
    "    return total_cost"
   ]
  },
  {
   "cell_type": "code",
   "execution_count": 8,
   "id": "29b0e443",
   "metadata": {},
   "outputs": [
    {
     "name": "stdout",
     "output_type": "stream",
     "text": [
      "cost at initial w and b (zeros): 2926329871830.0\n"
     ]
    }
   ],
   "source": [
    "#compute and display cost with parameters initialized to 0\n",
    "w_temp = 0\n",
    "b_temp = 0\n",
    "\n",
    "cost = compute_cost(x_train,y_train,w_temp,b_temp)\n",
    "print('cost at initial w and b (zeros): {}'.format(cost))"
   ]
  },
  {
   "cell_type": "code",
   "execution_count": 9,
   "id": "1050d66e",
   "metadata": {},
   "outputs": [],
   "source": [
    "# predict a value\n",
    "\n",
    "def predict(x,w,b):\n",
    "    '''\n",
    "    Predict values given x_train and parameters\n",
    "    Args:\n",
    "      x : list of features values\n",
    "      w : Scalar value of parameter of the model - Single feature      \n",
    "      b : scalar values of bias parameter of the model\n",
    "    Returns:\n",
    "      f_wb: list with predicted values\n",
    "    ''' \n",
    "    f_wb = []\n",
    "    for i in range(len(x)):\n",
    "        f_wb.append(w*x[i] + b)\n",
    "        #print(f_wb)\n",
    "    return f_wb"
   ]
  },
  {
   "cell_type": "markdown",
   "id": "f16a276f",
   "metadata": {},
   "source": [
    "### Computing gradient component "
   ]
  },
  {
   "cell_type": "code",
   "execution_count": 10,
   "id": "cbafbcee",
   "metadata": {},
   "outputs": [],
   "source": [
    "#compute gradient for gradient descent\n",
    "\n",
    "def compute_gradient(x,y,w,b):\n",
    "    '''\n",
    "    Computes the gradient for linear regression\n",
    "    Args:\n",
    "      X : pandas df column vector: m examples by n features\n",
    "      y : pandas df column vector: target values\n",
    "      w : Scalar value of parameter of the model - Single feature      \n",
    "      b : scalar values of bias parameter of the model\n",
    "    Returns:\n",
    "      dj_dw : gradient of the cost - parameter w\n",
    "      dj_db: gradient of the cost - parameter b\n",
    "    '''\n",
    "    m = len(x)\n",
    "    dj_dw_i = 0\n",
    "    dj_db_i = 0\n",
    "    \n",
    "    for i in range(m):\n",
    "        f_wb = w*x[i] + b\n",
    "        dj_dw_i += (f_wb - y[i])*x[i]\n",
    "        dj_db_i += (f_wb - y[i])\n",
    "    dj_dw = dj_dw_i * (1/m)\n",
    "    dj_db = dj_db_i * (1/m)\n",
    "    \n",
    "    return dj_dw, dj_db\n"
   ]
  },
  {
   "cell_type": "code",
   "execution_count": 11,
   "id": "c2968bff",
   "metadata": {},
   "outputs": [
    {
     "name": "stdout",
     "output_type": "stream",
     "text": [
      "dj_dw at initial w = 0: -477398.7\n",
      "dj_db at initial w = 0: -76003.0\n"
     ]
    }
   ],
   "source": [
    "#Compute and display gradients with initual parameteres set to zero\n",
    "\n",
    "w_temp = 0\n",
    "b_temp = 0\n",
    "\n",
    "dj_dw, dj_db = compute_gradient(x_train,y_train,w_temp,b_temp)\n",
    "print('dj_dw at initial w = 0: {}'.format(dj_dw))\n",
    "print('dj_db at initial w = 0: {}'.format(dj_db))"
   ]
  },
  {
   "cell_type": "markdown",
   "id": "2ee39cd9",
   "metadata": {},
   "source": [
    "### Gradient Descent "
   ]
  },
  {
   "cell_type": "code",
   "execution_count": 12,
   "id": "cf1142f3",
   "metadata": {},
   "outputs": [],
   "source": [
    "# find learning parameters using gradient descent\n",
    "\n",
    "def gradient_descent(x,y,w,b,alpha,num_iter):\n",
    "    \n",
    "    \"\"\"\n",
    "    Performs batch gradient descent to learn parameters. Updates parameters by taking \n",
    "    num_iters gradient steps with learning rate alpha\n",
    "    \n",
    "    Args:\n",
    "      X :    (array_like Shape (m, n)\n",
    "      y :    (array_like Shape (m,))\n",
    "      w_in : (array_like Shape (n,))  Initial values of parameters of the model\n",
    "      b_in : (scalar)                 Initial value of parameter of the model\n",
    "      alpha : (float)                 Learning rate\n",
    "      num_iters : (int)               number of iterations to run gradient descent\n",
    "    Returns:\n",
    "      w : (array_like Shape (n,)) Updated values of parameters of the model after\n",
    "          running gradient descent\n",
    "      b : (scalar)                Updated value of parameter of the model after\n",
    "          running gradient descent\n",
    "    \"\"\"\n",
    "    # Arrays to story hisory primarely for graphing\n",
    "    j_history = []\n",
    "    w_history = []\n",
    "    b_history = []\n",
    "    \n",
    "    for i in range(num_iter):\n",
    "        \n",
    "        if i < 100000:  #prevent resource exhaustion\n",
    "            cost = compute_cost(x,y,w,b)\n",
    "            j_history.append(cost)\n",
    "            \n",
    "        # Calculate the gradient and update the parameters\n",
    "        dj_dw, dj_db = compute_gradient(x,y,w,b)\n",
    "        \n",
    "        # Update Parameters using w, b, alpha and gradient\n",
    "        w = w - alpha * dj_dw\n",
    "        b = b - alpha * dj_db\n",
    "        \n",
    "        # Every 1000 iterations, store w and b, and print info\n",
    "        if i % 1000 == 0 or i == num_iter-1:\n",
    "            w_history.append(w)\n",
    "            b_history.append(b)\n",
    "            print('iteration: {} | Cost: {} | w: {} | b: {}'.format(i,cost,w,b))\n",
    "                  \n",
    "    return w, b, j_history, w_history, b_history\n",
    "                  "
   ]
  },
  {
   "cell_type": "code",
   "execution_count": 13,
   "id": "66234d7b",
   "metadata": {
    "scrolled": true
   },
   "outputs": [
    {
     "name": "stdout",
     "output_type": "stream",
     "text": [
      "iteration: 0 | Cost: 2926329871830.0 | w: 4773.987 | b: 760.03\n",
      "iteration: 1000 | Cost: 14874185837.93114 | w: 9875.211344239317 | b: 22926.559902100693\n",
      "iteration: 2000 | Cost: 14083545368.687643 | w: 9501.134647665855 | b: 25447.36347429806\n",
      "iteration: 3000 | Cost: 14072096496.394947 | w: 9456.120141531128 | b: 25750.70428356132\n",
      "iteration: 4000 | Cost: 14071930710.956594 | w: 9450.703322517506 | b: 25787.20678918266\n",
      "iteration: 5000 | Cost: 14071928310.29993 | w: 9450.051489791878 | b: 25791.59931691371\n",
      "iteration: 6000 | Cost: 14071928275.537216 | w: 9449.973051523748 | b: 25792.12789158385\n",
      "iteration: 7000 | Cost: 14071928275.033823 | w: 9449.963612657515 | b: 25792.191497598164\n",
      "iteration: 8000 | Cost: 14071928275.026546 | w: 9449.962476831877 | b: 25792.199151625675\n",
      "iteration: 9000 | Cost: 14071928275.02644 | w: 9449.962340152337 | b: 25792.200072672815\n",
      "iteration: 9999 | Cost: 14071928275.02644 | w: 9449.962323709777 | b: 25792.20018347487\n",
      "Final value of w parameter: 9449.962323709777\n",
      "Final value of b parameter: 25792.20018347487\n",
      "Final cost value: 2926329871830.0\n"
     ]
    }
   ],
   "source": [
    "intial_w = 0\n",
    "initial_b = 0\n",
    "\n",
    "# Some gradient descent settings\n",
    "iterations = 10000\n",
    "alpha = 0.01\n",
    "\n",
    "w,b, j_history,_,_ = gradient_descent(x_train ,y_train,intial_w, initial_b, alpha, iterations)\n",
    "print('Final value of w parameter: {}'.format(w))\n",
    "print('Final value of b parameter: {}'.format(b))\n",
    "print('Final cost value: {}'.format(cost))"
   ]
  },
  {
   "cell_type": "markdown",
   "id": "d6ec64f5",
   "metadata": {},
   "source": [
    "### Visualize Model "
   ]
  },
  {
   "cell_type": "code",
   "execution_count": 14,
   "id": "dcca7b0e",
   "metadata": {},
   "outputs": [
    {
     "data": {
      "text/plain": [
       "<matplotlib.legend.Legend at 0x236906b69a0>"
      ]
     },
     "execution_count": 14,
     "metadata": {},
     "output_type": "execute_result"
    },
    {
     "data": {
      "image/png": "[encoded data removed]",
      "text/plain": [
       "<Figure size 432x288 with 1 Axes>"
      ]
     },
     "metadata": {
      "needs_background": "light"
     },
     "output_type": "display_data"
    }
   ],
   "source": [
    "#Visualize linear regression model\n",
    "\n",
    "#lin regression model using found learning parameters\n",
    "f_wb = predict(x_train,w,b)\n",
    "\n",
    "#plot\n",
    "plt.scatter(dfs['YearsExperience'],dfs['Salary'],color='r',marker='x')\n",
    "plt.plot(x_train,f_wb)\n",
    "plt.xlabel('Years of Experience')\n",
    "plt.ylabel('Annual Income USD')\n",
    "plt.title('Experience x Annual Income')\n",
    "plt.legend(['Salary','Lin. Regression'])\n"
   ]
  },
  {
   "cell_type": "code",
   "execution_count": 15,
   "id": "f10899d0",
   "metadata": {},
   "outputs": [
    {
     "name": "stdout",
     "output_type": "stream",
     "text": [
      "[120291.82342057263]\n",
      "[73042.01180202376]\n",
      "[44692.12483089442]\n"
     ]
    }
   ],
   "source": [
    "# predict a few values using model\n",
    "print(predict([10],w,b))\n",
    "print(predict([5],w,b))\n",
    "print(predict([2],w,b))"
   ]
  },
  {
   "cell_type": "code",
   "execution_count": 16,
   "id": "4e22d82c",
   "metadata": {},
   "outputs": [
    {
     "data": {
      "text/plain": [
       "Text(0.5, 1.0, 'Cost x Iterations')"
      ]
     },
     "execution_count": 16,
     "metadata": {},
     "output_type": "execute_result"
    },
    {
     "data": {
      "image/png": "[encoded data removed]",
      "text/plain": [
       "<Figure size 432x288 with 1 Axes>"
      ]
     },
     "metadata": {
      "needs_background": "light"
     },
     "output_type": "display_data"
    }
   ],
   "source": [
    "#visualize cost function (J) over time - should decrease\n",
    "x = range(0,10000)\n",
    "plt.plot(x,j_history)\n",
    "plt.xlabel('Iterations')\n",
    "plt.ylabel('Cost Funcion (J)')\n",
    "plt.title('Cost x Iterations')"
   ]
  },
  {
   "cell_type": "markdown",
   "id": "6bfb8b2d",
   "metadata": {},
   "source": [
    "### Scikitlearn "
   ]
  },
  {
   "cell_type": "code",
   "execution_count": 42,
   "id": "6b9495e5",
   "metadata": {},
   "outputs": [
    {
     "name": "stdout",
     "output_type": "stream",
     "text": [
      "Linear Regression using scikitLearn library\n",
      "Model parameters: {'copy_X': True, 'fit_intercept': True, 'n_jobs': None, 'normalize': 'deprecated', 'positive': False}\n",
      "\n",
      "Model accuracy given test data: 0.9569566641435086\n",
      "\n",
      "Parameter estimation for w: [9449.96232146]\n",
      "Parameter estimation for b:25792.20019866871\n",
      "\n",
      " predition 1: [120291.82341322]\n",
      "\n",
      " predition 2: [73042.01180594]\n",
      "\n",
      " predition 3: [44692.12484158]\n"
     ]
    }
   ],
   "source": [
    "import numpy as np\n",
    "from sklearn.linear_model import LinearRegression\n",
    "\n",
    "# prepare x_train and y_train to fit model\n",
    "x_train = dfs['YearsExperience']\n",
    "x_train = x_train.to_numpy().reshape(-1,1)\n",
    "y_train = dfs['Salary']\n",
    "t_train = y_train.to_numpy().reshape(-1,1)\n",
    "\n",
    "# scikitlearn linear regression model\n",
    "reg = LinearRegression().fit(x_train,y_train)\n",
    "score = reg.score(x_train,y_train)\n",
    "parameters = reg.get_params(deep=True)\n",
    "\n",
    "w = reg.coef_\n",
    "b = reg.intercept_\n",
    "\n",
    "test1 = np.array([[10]])\n",
    "test2 = np.array([[5]])\n",
    "test3 = np.array([[2]])\n",
    "pred1 = reg.predict(test1)\n",
    "pred2 = reg.predict(test2)\n",
    "pred3 = reg.predict(test3)\n",
    "\n",
    "print('Linear Regression using scikitLearn library')\n",
    "print('Model parameters: {}'.format(parameters))\n",
    "print('\\nModel accuracy given test data: {}'.format(score))\n",
    "print('\\nParameter estimation for w: {}'.format(w))\n",
    "print('Parameter estimation for b:{}'.format(b))\n",
    "print('\\n predition 1: {}'.format(pred1))\n",
    "print('\\n predition 2: {}'.format(pred2))\n",
    "print('\\n predition 3: {}'.format(pred3))"
   ]
  },
  {
   "cell_type": "code",
   "execution_count": null,
   "id": "bccaa32b",
   "metadata": {},
   "outputs": [],
   "source": []
  }
 ],
 "metadata": {
  "kernelspec": {
   "display_name": "Python 3 (ipykernel)",
   "language": "python",
   "name": "python3"
  },
  "language_info": {
   "codemirror_mode": {
    "name": "ipython",
    "version": 3
   },
   "file_extension": ".py",
   "mimetype": "text/x-python",
   "name": "python",
   "nbconvert_exporter": "python",
   "pygments_lexer": "ipython3",
   "version": "3.9.12"
  }
 },
 "nbformat": 4,
 "nbformat_minor": 5
}
